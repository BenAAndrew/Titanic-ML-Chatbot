{
 "cells": [
  {
   "cell_type": "code",
   "execution_count": 1,
   "metadata": {},
   "outputs": [
    {
     "name": "stderr",
     "output_type": "stream",
     "text": [
      "C:\\Users\\User\\AppData\\Local\\conda\\conda\\envs\\ML2\\lib\\site-packages\\sklearn\\ensemble\\weight_boosting.py:29: DeprecationWarning: numpy.core.umath_tests is an internal NumPy module and should not be imported. It will be removed in a future NumPy release.\n",
      "  from numpy.core.umath_tests import inner1d\n"
     ]
    }
   ],
   "source": [
    "import pandas as pd\n",
    "import numpy as np\n",
    "from sklearn.model_selection import train_test_split\n",
    "from sklearn.linear_model import LogisticRegression\n",
    "from sklearn.ensemble import RandomForestClassifier\n",
    "from sklearn.preprocessing import StandardScaler, LabelEncoder\n",
    "from sklearn.metrics import confusion_matrix, classification_report\n",
    "from sklearn.neural_network import MLPClassifier\n",
    "from sklearn.neighbors import KNeighborsClassifier\n",
    "from sklearn.svm import SVC\n",
    "from sklearn.gaussian_process import GaussianProcessClassifier\n",
    "from sklearn.gaussian_process.kernels import RBF\n",
    "from sklearn.tree import DecisionTreeClassifier\n",
    "from sklearn.ensemble import RandomForestClassifier, AdaBoostClassifier\n",
    "from sklearn.naive_bayes import GaussianNB\n",
    "from sklearn.discriminant_analysis import QuadraticDiscriminantAnalysis"
   ]
  },
  {
   "cell_type": "code",
   "execution_count": 2,
   "metadata": {},
   "outputs": [],
   "source": [
    "titanic = pd.read_csv(\"titanic_dataset.csv\")"
   ]
  },
  {
   "cell_type": "code",
   "execution_count": 3,
   "metadata": {},
   "outputs": [
    {
     "name": "stdout",
     "output_type": "stream",
     "text": [
      "49     512.3292\n",
      "50     512.3292\n",
      "183    512.3292\n",
      "302    512.3292\n",
      "Name: fare, dtype: float64\n"
     ]
    }
   ],
   "source": [
    "titanic.head()\n",
    "print(titanic['fare'][titanic['fare'] >300])"
   ]
  },
  {
   "cell_type": "code",
   "execution_count": 4,
   "metadata": {},
   "outputs": [
    {
     "name": "stdout",
     "output_type": "stream",
     "text": [
      "0         S\n",
      "1         S\n",
      "2         S\n",
      "3         S\n",
      "4         S\n",
      "5         S\n",
      "6         S\n",
      "7         S\n",
      "8         S\n",
      "9         C\n",
      "10        C\n",
      "11        C\n",
      "12        C\n",
      "13        S\n",
      "14        S\n",
      "15        S\n",
      "16        C\n",
      "17        C\n",
      "18        C\n",
      "19        C\n",
      "20        S\n",
      "21        S\n",
      "22        C\n",
      "23        C\n",
      "24        S\n",
      "25        C\n",
      "26        C\n",
      "27        C\n",
      "28        S\n",
      "29        S\n",
      "       ... \n",
      "1280      S\n",
      "1281      S\n",
      "1282      S\n",
      "1283      S\n",
      "1284      S\n",
      "1285      S\n",
      "1286      C\n",
      "1287      S\n",
      "1288      S\n",
      "1289      S\n",
      "1290      S\n",
      "1291      S\n",
      "1292      S\n",
      "1293      S\n",
      "1294      S\n",
      "1295      S\n",
      "1296      S\n",
      "1297      S\n",
      "1298      S\n",
      "1299      C\n",
      "1300      C\n",
      "1301      C\n",
      "1302      C\n",
      "1303      C\n",
      "1304      C\n",
      "1305      C\n",
      "1306      C\n",
      "1307      C\n",
      "1308      S\n",
      "1309    NaN\n",
      "Name: embarked, Length: 1310, dtype: object\n"
     ]
    }
   ],
   "source": [
    "titanic[\"sex\"] = titanic[\"sex\"].apply(lambda x: 1 if x == \"male\" else 0)\n",
    "print(titanic[\"embarked\"])"
   ]
  },
  {
   "cell_type": "code",
   "execution_count": 5,
   "metadata": {},
   "outputs": [
    {
     "name": "stdout",
     "output_type": "stream",
     "text": [
      "pclass    1045\n",
      "sex       1045\n",
      "fare      1045\n",
      "age       1045\n",
      "dtype: int64\n",
      "1045\n"
     ]
    }
   ],
   "source": [
    "titanic = titanic[np.isfinite(titanic['age'])]\n",
    "titanic = titanic[np.isfinite(titanic['fare'])]\n",
    "#removing null data\n",
    "x = titanic[[\"pclass\",\"sex\", \"fare\", \"age\"]]\n",
    "print(x.count())\n",
    "print(titanic['survived'].count())\n",
    "y = titanic['survived']\n",
    "x_train, x_test, y_train, y_test = train_test_split(x, y, test_size = 0.33, random_state = 50)"
   ]
  },
  {
   "cell_type": "code",
   "execution_count": 6,
   "metadata": {},
   "outputs": [
    {
     "data": {
      "text/plain": [
       "RandomForestClassifier(bootstrap=True, class_weight=None, criterion='gini',\n",
       "            max_depth=None, max_features='auto', max_leaf_nodes=None,\n",
       "            min_impurity_decrease=0.0, min_impurity_split=None,\n",
       "            min_samples_leaf=1, min_samples_split=2,\n",
       "            min_weight_fraction_leaf=0.0, n_estimators=1000, n_jobs=1,\n",
       "            oob_score=False, random_state=None, verbose=0,\n",
       "            warm_start=False)"
      ]
     },
     "execution_count": 6,
     "metadata": {},
     "output_type": "execute_result"
    }
   ],
   "source": [
    "rfc = RandomForestClassifier(n_estimators = 1000)\n",
    "#rfc = DecisionTreeClassifier(max_depth=5)\n",
    "#rfc = LogisticRegression()\n",
    "rfc.fit(x_train, y_train)"
   ]
  },
  {
   "cell_type": "code",
   "execution_count": 7,
   "metadata": {},
   "outputs": [
    {
     "name": "stdout",
     "output_type": "stream",
     "text": [
      "             precision    recall  f1-score   support\n",
      "\n",
      "        0.0       0.80      0.87      0.83       198\n",
      "        1.0       0.80      0.70      0.75       147\n",
      "\n",
      "avg / total       0.80      0.80      0.79       345\n",
      "\n"
     ]
    }
   ],
   "source": [
    "prediction = rfc.predict(x_test)\n",
    "print (classification_report(y_test, prediction))"
   ]
  },
  {
   "cell_type": "markdown",
   "metadata": {},
   "source": [
    "while(True):\n",
    "    me = input(\"Class Sex Fare Age: \").split(\" \")\n",
    "    data = {'pclass': [int(me[0])], 'sex': [int(me[1])], 'fare': [int(me[2])], 'age' : [int(me[3])]}\n",
    "    me = pd.DataFrame(data)\n",
    "    prediction = rfc.predict(me)\n",
    "    if(prediction[0] == 0):\n",
    "        print(\"You died\")\n",
    "    else:\n",
    "        print(\"You survived\")"
   ]
  },
  {
   "cell_type": "code",
   "execution_count": 8,
   "metadata": {},
   "outputs": [
    {
     "name": "stdout",
     "output_type": "stream",
     "text": [
      "   pclass  sex      fare      age   0\n",
      "0     1.0  0.0  211.3375  29.0000 NaN\n",
      "1     1.0  1.0  151.5500   0.9167 NaN\n",
      "2     1.0  0.0  151.5500   2.0000 NaN\n",
      "3     1.0  1.0  151.5500  30.0000 NaN\n",
      "4     1.0  0.0  151.5500  25.0000 NaN\n"
     ]
    },
    {
     "name": "stderr",
     "output_type": "stream",
     "text": [
      "C:\\Users\\User\\AppData\\Local\\conda\\conda\\envs\\ML2\\lib\\site-packages\\pandas\\core\\indexes\\api.py:107: RuntimeWarning: '<' not supported between instances of 'str' and 'int', sort order is undefined for incomparable objects\n",
      "  result = result.union(other)\n"
     ]
    }
   ],
   "source": [
    "output = titanic[[\"pclass\",\"sex\", \"fare\", \"age\", \"survived\"]]\n",
    "print(output.head())\n",
    "output.to_csv('processed_titanic_df.csv')"
   ]
  }
 ],
 "metadata": {
  "kernelspec": {
   "display_name": "Python 3",
   "language": "python",
   "name": "python3"
  },
  "language_info": {
   "codemirror_mode": {
    "name": "ipython",
    "version": 3
   },
   "file_extension": ".py",
   "mimetype": "text/x-python",
   "name": "python",
   "nbconvert_exporter": "python",
   "pygments_lexer": "ipython3",
   "version": "3.6.6"
  }
 },
 "nbformat": 4,
 "nbformat_minor": 2
}
